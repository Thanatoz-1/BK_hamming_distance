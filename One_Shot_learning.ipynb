{
 "cells": [
  {
   "cell_type": "markdown",
   "metadata": {
    "colab_type": "text",
    "id": "ljFr_2V26284"
   },
   "source": [
    "<center >\n",
    "    <h1 > OneShot Learning for image data </h1>\n",
    "</center>\n",
    "<br><br>\n",
    "\n",
    "We will be implementing the oneshot learning algorithm here just like the [FaceNet](https://arxiv.org/pdf/1503.03832.pdf) and [Deepface](https://research.fb.com/wp-content/uploads/2016/11/deepface-closing-the-gap-to-human-level-performance-in-face-verification.pdf) in order to combine images of a similar kind in the dataset. For achieving this, we will be using the ResNet architecture for forward propogation through the images and generate a image embedding unique to only the specific images in the dataset.\n",
    "\n",
    "A rough idea about oneshot learning could be found here in this image:\n",
    "\n",
    "<br>\n",
    "![Oneshot learning](https://sorenbouma.github.io/images/Siamese_diagram_2.png)\n",
    "<br>\n",
    "The procedure in the image is explained using classic Alexnet convolutional architecture, but in this notebook I have implemented Google's Inception model as it turns out to be faster than few other deep network architectures."
   ]
  },
  {
   "cell_type": "code",
   "execution_count": 1,
   "metadata": {
    "colab": {
     "base_uri": "https://localhost:8080/",
     "height": 34
    },
    "colab_type": "code",
    "id": "ZzW2_0Y8wVNA",
    "outputId": "00d3c148-e251-4ff7-9167-a1540fe82a82"
   },
   "outputs": [
    {
     "name": "stderr",
     "output_type": "stream",
     "text": [
      "Using TensorFlow backend.\n"
     ]
    }
   ],
   "source": [
    "from keras.layers import Conv2D, ZeroPadding2D, Activation, Input\n",
    "from keras.models import Model, Sequential\n",
    "from keras.layers.normalization import BatchNormalization\n",
    "from keras.layers.pooling import MaxPooling2D, AveragePooling2D\n",
    "from keras.layers.core import Lambda, Flatten, Dense\n",
    "from keras.applications.inception_v3 import InceptionV3\n",
    "from keras.models import load_model\n",
    "import cv2\n",
    "import numpy as np\n",
    "import tensorflow as tf\n",
    "import os\n",
    "import pandas as pd\n",
    "import matplotlib.pyplot as plt\n",
    "%matplotlib inline\n",
    "import h5py\n",
    "import time"
   ]
  },
  {
   "cell_type": "markdown",
   "metadata": {
    "colab_type": "text",
    "id": "tGGGBZub72pR"
   },
   "source": [
    "### Initializing the model.\n",
    "The image size we will be using here is 200X200 as the ResNet50 requires us to have this size of images atleast"
   ]
  },
  {
   "cell_type": "code",
   "execution_count": 0,
   "metadata": {
    "colab": {},
    "colab_type": "code",
    "collapsed": true,
    "id": "KO9pRRnnz9Id"
   },
   "outputs": [],
   "source": [
    "RecModel = InceptionV3(input_shape=(200,200,3), weights=None, include_top=False)"
   ]
  },
  {
   "cell_type": "markdown",
   "metadata": {
    "colab_type": "text",
    "id": "Vh5JJErn8S4N"
   },
   "source": [
    "### Triplet loss\n",
    "\n",
    "Triplet loss is nothing but the eucledian distance between the ***<abbr title=\"The image on which we have to compare with.\">anchor</abbr>*** and the ***<abbr title=\"Image that is exactly the same as anchor image\">positive</abbr> *** and ***<abbr title=\"The image that is not similar to the achor image\">negetive</abbr>*** images.  \n",
    "I have refered to [this awesome](https://towardsdatascience.com/lossless-triplet-loss-7e932f990b24) article on triplet loss from [TowardsDataScience](https://towardsdatascience.com/). Everything a triplet loss does could be jotted down to this image.\n",
    "\n",
    "![Triplet Loss](https://cdn-images-1.medium.com/max/889/0*_WNBFcRVEOz6QM7R.)"
   ]
  },
  {
   "cell_type": "code",
   "execution_count": 0,
   "metadata": {
    "colab": {},
    "colab_type": "code",
    "collapsed": true,
    "id": "erOY75tG0SXz"
   },
   "outputs": [],
   "source": [
    "def triplet_loss(y_true, y_pred, alpha = 0.2):\n",
    "    anchor, positive, negative = y_pred[0], y_pred[1], y_pred[2]\n",
    "    pos_dist = tf.reduce_sum(tf.square(anchor - positive))\n",
    "    neg_dist = tf.reduce_sum(tf.square(anchor - negative))\n",
    "    basic_loss = pos_dist - neg_dist + alpha\n",
    "    loss = tf.maximum(basic_loss, 0)    \n",
    "    return loss"
   ]
  },
  {
   "cell_type": "code",
   "execution_count": 0,
   "metadata": {
    "colab": {},
    "colab_type": "code",
    "collapsed": true,
    "id": "2lM6BFGi0SVm"
   },
   "outputs": [],
   "source": [
    "RecModel.compile(optimizer='adam', loss = triplet_loss, metrics = ['accuracy'])"
   ]
  },
  {
   "cell_type": "code",
   "execution_count": 11,
   "metadata": {
    "colab": {
     "base_uri": "https://localhost:8080/",
     "height": 457
    },
    "colab_type": "code",
    "id": "Dac5a2g60STK",
    "outputId": "94cd262e-5efa-4957-e75c-f6ed49aec15c"
   },
   "outputs": [
    {
     "name": "stdout",
     "output_type": "stream",
     "text": [
      "--2018-10-04 19:19:58--  https://transfer.sh/ShBts/images_fkcdn.zip\n",
      "Resolving transfer.sh (transfer.sh)... 185.216.24.82\n",
      "Connecting to transfer.sh (transfer.sh)|185.216.24.82|:443... connected.\n",
      "HTTP request sent, awaiting response... 200 OK\n",
      "Length: 300797777 (287M) [application/zip]\n",
      "Saving to: ‘images_fkcdn.zip’\n",
      "\n",
      "images_fkcdn.zip    100%[===================>] 286.86M  20.0MB/s    in 18s     \n",
      "\n",
      "2018-10-04 19:20:17 (16.1 MB/s) - ‘images_fkcdn.zip’ saved [300797777/300797777]\n",
      "\n",
      "--2018-10-04 19:20:19--  https://transfer.sh/8gQj4/tunics.csv\n",
      "Resolving transfer.sh (transfer.sh)... 185.216.24.82\n",
      "Connecting to transfer.sh (transfer.sh)|185.216.24.82|:443... connected.\n",
      "HTTP request sent, awaiting response... 200 OK\n",
      "Length: 49915831 (48M) [text/csv]\n",
      "Saving to: ‘tunics.csv.1’\n",
      "\n",
      "tunics.csv.1        100%[===================>]  47.60M  10.5MB/s    in 5.3s    \n",
      "\n",
      "2018-10-04 19:20:25 (9.00 MB/s) - ‘tunics.csv.1’ saved [49915831/49915831]\n",
      "\n",
      "Archive:  images_fkcdn.zip\n",
      "replace images/TUNEAVFPXPVEEPJD.jpg? [y]es, [n]o, [A]ll, [N]one, [r]ename: n\n",
      "replace images/TUNEHFKS7NFVBVZS.jpg? [y]es, [n]o, [A]ll, [N]one, [r]ename: N\n"
     ]
    }
   ],
   "source": [
    "# Download the images previously uploaded in data-extraction notebook. \n",
    "# These link will work till 13 Oct 2018 and should be changed by running the preprocessing notebook added with this unit.\n",
    "\n",
    "!wget https://transfer.sh/ShBts/images_fkcdn.zip \n",
    "!wget https://transfer.sh/8gQj4/tunics.csv\n",
    "!unzip images_fkcdn.zip"
   ]
  },
  {
   "cell_type": "code",
   "execution_count": 0,
   "metadata": {
    "colab": {},
    "colab_type": "code",
    "collapsed": true,
    "id": "p4ak3TwI0SO5"
   },
   "outputs": [],
   "source": [
    "#Image encoding. The main aim of this function is to convert the images to encodings.\n",
    "def image_to_encoding(image_name, model):\n",
    "    #Read the image and convert BGR to RGB\n",
    "    a = cv2.imread('./images/'+str(image_name),cv2.COLOR_BGR2RGB)\n",
    "    \n",
    "    #Generate the image padding using np.zeros\n",
    "    b = np.zeros((200,200,3), dtype='uint8')\n",
    "    \n",
    "    #Add the slice of image over the padding\n",
    "    b[:a.shape[0],:a.shape[1],:]+=a\n",
    "    \n",
    "    #Convert to batch\n",
    "    b = b.reshape(1,200,200,3)\n",
    "    \n",
    "    #Forward propagate through the model network\n",
    "    embedding = model.predict_on_batch(b)\n",
    "    \n",
    "    return embedding"
   ]
  },
  {
   "cell_type": "code",
   "execution_count": 14,
   "metadata": {
    "colab": {
     "base_uri": "https://localhost:8080/",
     "height": 34
    },
    "colab_type": "code",
    "id": "7DHFnFux0SM3",
    "outputId": "a871aa25-dc80-4d6f-cc1f-4bfdd323225d"
   },
   "outputs": [
    {
     "name": "stdout",
     "output_type": "stream",
     "text": [
      "0.151872873306\n"
     ]
    }
   ],
   "source": [
    "# Function to check the speed of model on a single image.\n",
    "start=time.time()\n",
    "image_to_encoding('TUNE94FTWTSPGGGE.jpg', RecModel)\n",
    "print((time.time()-start))"
   ]
  },
  {
   "cell_type": "code",
   "execution_count": 0,
   "metadata": {
    "colab": {},
    "colab_type": "code",
    "collapsed": true,
    "id": "wE-jEPKd0SIF"
   },
   "outputs": [],
   "source": [
    "imgs = os.listdir('./images')\n",
    "database={}\n",
    "for i,img in enumerate(sorted(imgs)):\n",
    "    if i%100==0:\n",
    "        print(i) #This could be replaced by TQDM for visual representations\n",
    "    database[img.split('.')[0]]=image_to_encoding(img, RecModel)"
   ]
  },
  {
   "cell_type": "code",
   "execution_count": 0,
   "metadata": {
    "colab": {},
    "colab_type": "code",
    "collapsed": true,
    "id": "NMYWdehe0SDn"
   },
   "outputs": [],
   "source": [
    "#Function to verify the images with the identity\n",
    "def verify(image,identity, database, model):\n",
    "    \"\"\"\n",
    "    Function that verifies Redundant images\n",
    "    \n",
    "    Arguments:\n",
    "    image_path -- path to an image\n",
    "    identity -- string, productId you'd like to verify the identity.\n",
    "    database -- python dictionary mapping Products to their encodings (vectors).\n",
    "    model -- your ResNet model instance in Keras\n",
    "    \n",
    "    Returns:\n",
    "    dist -- distance between the image_path and the image of \"identity\" in the database.\n",
    "    same -- True, if the images are same. False otherwise.\n",
    "    \"\"\"\n",
    "    \n",
    "    # Step 1: Compute the encoding for the image. Use image_to_encoding()\n",
    "    encoding = image_to_encoding(image, model)\n",
    "    # Step 2: Compute distance with identity's image (≈ 1 line)\n",
    "    dist = np.linalg.norm(database[identity] - encoding)\n",
    "    \n",
    "    # Step 3: Open the door if dist < 0.7, else don't open (≈ 3 lines)\n",
    "    if dist < 1:\n",
    "        same = True\n",
    "    else:\n",
    "        same = False\n",
    "        \n",
    "    return dist, same"
   ]
  },
  {
   "cell_type": "code",
   "execution_count": 0,
   "metadata": {
    "colab": {},
    "colab_type": "code",
    "collapsed": true,
    "id": "Roa72gUv0SJ7"
   },
   "outputs": [],
   "source": [
    "a1 = 'TUNEY2FZVC4DQV6Z.jpg' #Similar as below image\n",
    "b1 = 'TUNEY2FZXJZQE3SC.jpg' #Similar as above image\n",
    "c1 = 'TUNEGVMQEV6FQFYC.jpg' #Different image\n",
    "a = cv2.imread('./images/'+a1, cv2.COLOR_BGR2RGB)\n",
    "b = cv2.imread('./images/'+b1, cv2.COLOR_BGR2RGB)\n",
    "c = cv2.imread('./images/'+c1, cv2.COLOR_BGR2RGB)"
   ]
  },
  {
   "cell_type": "code",
   "execution_count": 20,
   "metadata": {
    "colab": {
     "base_uri": "https://localhost:8080/",
     "height": 286
    },
    "colab_type": "code",
    "id": "ZPCAZ4p_THdZ",
    "outputId": "1eadddae-5331-4043-bbd4-2a2ef271bd82"
   },
   "outputs": [
    {
     "data": {
      "text/plain": [
       "<matplotlib.image.AxesImage at 0x7fbd0740c8d0>"
      ]
     },
     "execution_count": 20,
     "metadata": {
      "tags": []
     },
     "output_type": "execute_result"
    },
    {
     "data": {
      "image/png": "[encoded data removed]",
      "text/plain": [
       "<matplotlib.figure.Figure at 0x7fbd07616b90>"
      ]
     },
     "metadata": {
      "tags": []
     },
     "output_type": "display_data"
    }
   ],
   "source": [
    "h = max(a.shape[0], b.shape[0])\n",
    "w = a.shape[1]+b.shape[1]\n",
    "cimg = np.zeros((h,w,3), dtype='uint8')\n",
    "cimg[:h,:a.shape[1],:]+=a\n",
    "cimg[:h,a.shape[1]:,:]+=b\n",
    "plt.grid(False)\n",
    "plt.imshow(cimg)"
   ]
  },
  {
   "cell_type": "code",
   "execution_count": 27,
   "metadata": {
    "colab": {
     "base_uri": "https://localhost:8080/",
     "height": 34
    },
    "colab_type": "code",
    "id": "5qvoz-9c0SBJ",
    "outputId": "00b88474-a07e-41d3-aa00-6355c3e89f8e"
   },
   "outputs": [
    {
     "name": "stdout",
     "output_type": "stream",
     "text": [
      "True\n"
     ]
    }
   ],
   "source": [
    "print(verify(a1, b1.split('.')[0], database, RecModel))[1]\n",
    "# should return true as a == b"
   ]
  },
  {
   "cell_type": "code",
   "execution_count": 16,
   "metadata": {
    "colab": {
     "base_uri": "https://localhost:8080/",
     "height": 286
    },
    "colab_type": "code",
    "id": "-HWDeu5WVMNE",
    "outputId": "124d6dc4-bafc-4f2a-b0ad-797388e9fd14"
   },
   "outputs": [
    {
     "data": {
      "text/plain": [
       "<matplotlib.image.AxesImage at 0x7fbd075bb8d0>"
      ]
     },
     "execution_count": 16,
     "metadata": {
      "tags": []
     },
     "output_type": "execute_result"
    },
    {
     "data": {
      "image/png": "[encoded data removed]",
      "text/plain": [
       "<matplotlib.figure.Figure at 0x7fbd0763d0d0>"
      ]
     },
     "metadata": {
      "tags": []
     },
     "output_type": "display_data"
    }
   ],
   "source": [
    "h = max(a.shape[0], c.shape[0])\n",
    "w = a.shape[1]+c.shape[1]\n",
    "cimg = np.zeros((h,w,3), dtype='uint8')\n",
    "cimg[:h,:a.shape[1],:]+=a\n",
    "cimg[:h,a.shape[1]:,:]+=c\n",
    "plt.grid(False)\n",
    "plt.imshow(cimg)"
   ]
  },
  {
   "cell_type": "code",
   "execution_count": 28,
   "metadata": {
    "colab": {
     "base_uri": "https://localhost:8080/",
     "height": 34
    },
    "colab_type": "code",
    "id": "kjv9GgdN9nFn",
    "outputId": "aee95d3e-7256-4647-912f-0fafaf3ba7d2"
   },
   "outputs": [
    {
     "name": "stdout",
     "output_type": "stream",
     "text": [
      "False\n"
     ]
    }
   ],
   "source": [
    "print(verify(a1, c1.split('.')[0], database, RecModel))[1]\n",
    "#Should return false as a!=c"
   ]
  },
  {
   "cell_type": "code",
   "execution_count": 0,
   "metadata": {
    "colab": {},
    "colab_type": "code",
    "collapsed": true,
    "id": "9S3IYMNeQdM-"
   },
   "outputs": [],
   "source": [
    "df = pd.read_csv('tunics.csv')"
   ]
  },
  {
   "cell_type": "code",
   "execution_count": 24,
   "metadata": {
    "colab": {
     "base_uri": "https://localhost:8080/",
     "height": 175
    },
    "colab_type": "code",
    "id": "9ojv-6TUQybf",
    "outputId": "06197774-c597-4f60-8f69-084873ee9a30"
   },
   "outputs": [
    {
     "data": {
      "text/plain": [
       "Index([u'Unnamed: 0', u'productId', u'title', u'description', u'imageUrlStr',\n",
       "       u'mrp', u'sellingPrice', u'specialPrice', u'productUrl', u'categories',\n",
       "       u'productBrand', u'productFamily', u'inStock', u'codAvailable',\n",
       "       u'offers', u'discount', u'shippingCharges', u'deliveryTime', u'size',\n",
       "       u'color', u'sizeUnit', u'storage', u'displaySize', u'keySpecsStr',\n",
       "       u'detailedSpecsStr', u'specificationList', u'sellerName',\n",
       "       u'sellerAverageRating', u'sellerNoOfRatings', u'sellerNoOfReviews',\n",
       "       u'sleeve', u'neck', u'idealFor'],\n",
       "      dtype='object')"
      ]
     },
     "execution_count": 24,
     "metadata": {
      "tags": []
     },
     "output_type": "execute_result"
    }
   ],
   "source": [
    "df.columns"
   ]
  },
  {
   "cell_type": "code",
   "execution_count": 0,
   "metadata": {
    "colab": {},
    "colab_type": "code",
    "collapsed": true,
    "id": "cr419BNR9mKk"
   },
   "outputs": [],
   "source": [
    "productFamily={} #Product family dictionary\n",
    "for i in range(len(df['productId'])):\n",
    "    productFamily[df['productId'][i]]=df['productFamily'][i].split(',')"
   ]
  },
  {
   "cell_type": "code",
   "execution_count": 0,
   "metadata": {
    "colab": {},
    "colab_type": "code",
    "collapsed": true,
    "id": "QtOr0QA7PlR3"
   },
   "outputs": [],
   "source": [
    "#Compare each image with all other image in array\n",
    "\n",
    "imgs=sorted(imgs) #Gets sorted images \n",
    "checks={}\n",
    "ptr=0\n",
    "\n",
    "# This loops compares the image with the preceeding images and \n",
    "# not with the already visited images to overcome redundancy\n",
    "for i in range(len(imgs)):\n",
    "    anchor_image=imgs[i]\n",
    "    anchor_name=imgs[i].split('.')[0]\n",
    "    checks[anchor_name]=[]\n",
    "    start=time.time()\n",
    "    for j in range(i+1,len(imgs)):\n",
    "        target_image=imgs[j]\n",
    "        target_name=imgs[j].split('.')[0]\n",
    "        if target_name not in productFamily[anchor_name] and verify(anchor_image, target_name, database, RecModel)[1] :\n",
    "            checks[anchor_name].append(target_name)\n",
    "            print(ptr)\n",
    "            ptr+=1\n",
    "    print(time.time()-start)\n",
    "    \n",
    "#  This Loop causes N^2 complexity and would take around 5.25 days to compare, \n",
    "# so I discarded this method and moved to the next method."
   ]
  },
  {
   "cell_type": "code",
   "execution_count": 0,
   "metadata": {
    "colab": {},
    "colab_type": "code",
    "collapsed": true,
    "id": "mpTOq4dP_amg"
   },
   "outputs": [],
   "source": [
    "# Dump the json to the temp server\n",
    "import json\n",
    "with open('output.json','w') as f:\n",
    "    json.dump(check,f)\n",
    "    \n",
    "!curl --upload-file ./output.json https://transfer.sh/output.json "
   ]
  },
  {
   "cell_type": "markdown",
   "metadata": {
    "colab_type": "text",
    "id": "NErrGQhnOppx"
   },
   "source": [
    "This notebook is supposed to run just fine on an even smaller dataset as this will take about 9 days of training time and lots of computation power to train, I could not complete the training after I was able to figure out the most appropriate method and created my own model for the same.\n",
    "\n",
    "I am even working on a next notebook that might come as solution the time complexity problem. Hope it works"
   ]
  }
 ],
 "metadata": {
  "colab": {
   "name": "One Shot learning.ipynb",
   "provenance": [],
   "version": "0.3.2"
  },
  "kernelspec": {
   "display_name": "Python 3",
   "language": "python",
   "name": "python3"
  },
  "language_info": {
   "codemirror_mode": {
    "name": "ipython",
    "version": 3
   },
   "file_extension": ".py",
   "mimetype": "text/x-python",
   "name": "python",
   "nbconvert_exporter": "python",
   "pygments_lexer": "ipython3",
   "version": "3.6.3"
  }
 },
 "nbformat": 4,
 "nbformat_minor": 1
}
